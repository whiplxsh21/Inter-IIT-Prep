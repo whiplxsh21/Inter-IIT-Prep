{
 "cells": [
  {
   "cell_type": "code",
   "execution_count": 1,
   "id": "5b8a0a40",
   "metadata": {},
   "outputs": [
    {
     "name": "stdout",
     "output_type": "stream",
     "text": [
      "Requirement already satisfied: pydantic in c:\\users\\dhruv\\anaconda3\\envs\\newvenv\\lib\\site-packages (2.10.6)\n",
      "Requirement already satisfied: annotated-types>=0.6.0 in c:\\users\\dhruv\\anaconda3\\envs\\newvenv\\lib\\site-packages (from pydantic) (0.7.0)\n",
      "Requirement already satisfied: pydantic-core==2.27.2 in c:\\users\\dhruv\\anaconda3\\envs\\newvenv\\lib\\site-packages (from pydantic) (2.27.2)\n",
      "Requirement already satisfied: typing-extensions>=4.12.2 in c:\\users\\dhruv\\anaconda3\\envs\\newvenv\\lib\\site-packages (from pydantic) (4.12.2)\n"
     ]
    }
   ],
   "source": [
    "!pip install pydantic"
   ]
  },
  {
   "cell_type": "markdown",
   "id": "309ba807",
   "metadata": {},
   "source": [
    "## Data Validation with `pydantic`"
   ]
  },
  {
   "cell_type": "code",
   "execution_count": 2,
   "id": "a1e886c8",
   "metadata": {},
   "outputs": [
    {
     "name": "stdout",
     "output_type": "stream",
     "text": [
      "name='Dhruv' age=19 city='Bangalore'\n"
     ]
    }
   ],
   "source": [
    "from pydantic import BaseModel\n",
    "\n",
    "class Person(BaseModel):\n",
    "    name: str\n",
    "    age: int\n",
    "    city: str\n",
    "\n",
    "person=Person(name=\"Dhruv\", age=19, city=\"Bangalore\")\n",
    "print(person)"
   ]
  },
  {
   "cell_type": "code",
   "execution_count": 3,
   "id": "4af5c2c5",
   "metadata": {},
   "outputs": [
    {
     "data": {
      "text/plain": [
       "__main__.Person"
      ]
     },
     "execution_count": 3,
     "metadata": {},
     "output_type": "execute_result"
    }
   ],
   "source": [
    "type(person)"
   ]
  },
  {
   "cell_type": "markdown",
   "id": "25ee04d5",
   "metadata": {},
   "source": [
    "What's the difference between pydantic (inheriting from BaseModel) vs just using a normal decorator class?"
   ]
  },
  {
   "cell_type": "code",
   "execution_count": 5,
   "id": "56b520d3",
   "metadata": {},
   "outputs": [
    {
     "name": "stdout",
     "output_type": "stream",
     "text": [
      "Person1(name='Dhruv', age=19, city='Bangalore')\n"
     ]
    }
   ],
   "source": [
    "# normal class\n",
    "from dataclasses import dataclass\n",
    "\n",
    "@dataclass\n",
    "class Person1():\n",
    "    name: str\n",
    "    age: int\n",
    "    city: str\n",
    "\n",
    "person1=Person1(name=\"Dhruv\", age=19, city=\"Bangalore\")\n",
    "print(person1)"
   ]
  },
  {
   "cell_type": "markdown",
   "id": "25c99b91",
   "metadata": {},
   "source": [
    "This prints normally, but compare the case when I put some random number instead of a string in `city`"
   ]
  },
  {
   "cell_type": "code",
   "execution_count": 6,
   "id": "bd5b9602",
   "metadata": {},
   "outputs": [
    {
     "name": "stdout",
     "output_type": "stream",
     "text": [
      "Person1(name='Dhruv', age=19, city=21)\n"
     ]
    },
    {
     "ename": "ValidationError",
     "evalue": "1 validation error for Person\ncity\n  Input should be a valid string [type=string_type, input_value=21, input_type=int]\n    For further information visit https://errors.pydantic.dev/2.10/v/string_type",
     "output_type": "error",
     "traceback": [
      "\u001b[1;31m---------------------------------------------------------------------------\u001b[0m",
      "\u001b[1;31mValidationError\u001b[0m                           Traceback (most recent call last)",
      "Cell \u001b[1;32mIn[6], line 6\u001b[0m\n\u001b[0;32m      3\u001b[0m \u001b[38;5;28mprint\u001b[39m(dataclass_person)\n\u001b[0;32m      5\u001b[0m \u001b[38;5;66;03m# pydantic class inherited from BaseModel\u001b[39;00m\n\u001b[1;32m----> 6\u001b[0m pydantic_class \u001b[38;5;241m=\u001b[39m \u001b[43mPerson\u001b[49m\u001b[43m(\u001b[49m\u001b[43mname\u001b[49m\u001b[38;5;241;43m=\u001b[39;49m\u001b[38;5;124;43m\"\u001b[39;49m\u001b[38;5;124;43mDhruv\u001b[39;49m\u001b[38;5;124;43m\"\u001b[39;49m\u001b[43m,\u001b[49m\u001b[43m \u001b[49m\u001b[43mage\u001b[49m\u001b[38;5;241;43m=\u001b[39;49m\u001b[38;5;241;43m19\u001b[39;49m\u001b[43m,\u001b[49m\u001b[43m \u001b[49m\u001b[43mcity\u001b[49m\u001b[38;5;241;43m=\u001b[39;49m\u001b[38;5;241;43m21\u001b[39;49m\u001b[43m)\u001b[49m\n\u001b[0;32m      7\u001b[0m \u001b[38;5;28mprint\u001b[39m(pydantic_class)\n",
      "File \u001b[1;32mc:\\Users\\dhruv\\anaconda3\\envs\\newvenv\\Lib\\site-packages\\pydantic\\main.py:214\u001b[0m, in \u001b[0;36mBaseModel.__init__\u001b[1;34m(self, **data)\u001b[0m\n\u001b[0;32m    212\u001b[0m \u001b[38;5;66;03m# `__tracebackhide__` tells pytest and some other tools to omit this function from tracebacks\u001b[39;00m\n\u001b[0;32m    213\u001b[0m __tracebackhide__ \u001b[38;5;241m=\u001b[39m \u001b[38;5;28;01mTrue\u001b[39;00m\n\u001b[1;32m--> 214\u001b[0m validated_self \u001b[38;5;241m=\u001b[39m \u001b[38;5;28;43mself\u001b[39;49m\u001b[38;5;241;43m.\u001b[39;49m\u001b[43m__pydantic_validator__\u001b[49m\u001b[38;5;241;43m.\u001b[39;49m\u001b[43mvalidate_python\u001b[49m\u001b[43m(\u001b[49m\u001b[43mdata\u001b[49m\u001b[43m,\u001b[49m\u001b[43m \u001b[49m\u001b[43mself_instance\u001b[49m\u001b[38;5;241;43m=\u001b[39;49m\u001b[38;5;28;43mself\u001b[39;49m\u001b[43m)\u001b[49m\n\u001b[0;32m    215\u001b[0m \u001b[38;5;28;01mif\u001b[39;00m \u001b[38;5;28mself\u001b[39m \u001b[38;5;129;01mis\u001b[39;00m \u001b[38;5;129;01mnot\u001b[39;00m validated_self:\n\u001b[0;32m    216\u001b[0m     warnings\u001b[38;5;241m.\u001b[39mwarn(\n\u001b[0;32m    217\u001b[0m         \u001b[38;5;124m'\u001b[39m\u001b[38;5;124mA custom validator is returning a value other than `self`.\u001b[39m\u001b[38;5;130;01m\\n\u001b[39;00m\u001b[38;5;124m'\u001b[39m\n\u001b[0;32m    218\u001b[0m         \u001b[38;5;124m\"\u001b[39m\u001b[38;5;124mReturning anything other than `self` from a top level model validator isn\u001b[39m\u001b[38;5;124m'\u001b[39m\u001b[38;5;124mt supported when validating via `__init__`.\u001b[39m\u001b[38;5;130;01m\\n\u001b[39;00m\u001b[38;5;124m\"\u001b[39m\n\u001b[0;32m    219\u001b[0m         \u001b[38;5;124m'\u001b[39m\u001b[38;5;124mSee the `model_validator` docs (https://docs.pydantic.dev/latest/concepts/validators/#model-validators) for more details.\u001b[39m\u001b[38;5;124m'\u001b[39m,\n\u001b[0;32m    220\u001b[0m         stacklevel\u001b[38;5;241m=\u001b[39m\u001b[38;5;241m2\u001b[39m,\n\u001b[0;32m    221\u001b[0m     )\n",
      "\u001b[1;31mValidationError\u001b[0m: 1 validation error for Person\ncity\n  Input should be a valid string [type=string_type, input_value=21, input_type=int]\n    For further information visit https://errors.pydantic.dev/2.10/v/string_type"
     ]
    }
   ],
   "source": [
    "# normal class\n",
    "dataclass_person=Person1(name=\"Dhruv\", age=19, city=21)\n",
    "print(dataclass_person)\n",
    "\n",
    "# pydantic class inherited from BaseModel\n",
    "pydantic_class = Person(name=\"Dhruv\", age=19, city=21)\n",
    "print(pydantic_class)"
   ]
  },
  {
   "cell_type": "markdown",
   "id": "d3ae558a",
   "metadata": {},
   "source": [
    "You can see the immediate difference when we use this because there is a validation error as the data entered doesnt fit the datatype schema explicitly defined by us earlier."
   ]
  },
  {
   "cell_type": "markdown",
   "id": "44e51a4e",
   "metadata": {},
   "source": [
    "## Using Optional Fields"
   ]
  },
  {
   "cell_type": "markdown",
   "id": "18788a1b",
   "metadata": {},
   "source": [
    "add optional fields using python's optional type from typing"
   ]
  },
  {
   "cell_type": "code",
   "execution_count": 22,
   "id": "f018e7a0",
   "metadata": {},
   "outputs": [],
   "source": [
    "from typing import Optional\n",
    "\n",
    "class Employee(BaseModel):\n",
    "    id: int\n",
    "    name: str\n",
    "    department: str\n",
    "    salary: Optional[float] = None # set an optional, along with the default value while using this\n",
    "    active_status: Optional[bool] = True"
   ]
  },
  {
   "cell_type": "markdown",
   "id": "01ddf2e7",
   "metadata": {},
   "source": [
    "Note: \n",
    "- Optional[type]: Indicates that the field can be `None`\n",
    "- Required fields must still be provided\n",
    "- Pydantic will validate the type **even for optional fields, when values are provided only**\n",
    "\n",
    "Also, one of the fields can also be a list "
   ]
  },
  {
   "cell_type": "code",
   "execution_count": 9,
   "id": "873129c8",
   "metadata": {},
   "outputs": [
    {
     "name": "stdout",
     "output_type": "stream",
     "text": [
      "room_number='A-507' students=['Dhruv', 'Prakhar'] capacity=2\n"
     ]
    }
   ],
   "source": [
    "from pydantic import BaseModel\n",
    "from typing import List, Optional\n",
    "\n",
    "class Classroom(BaseModel):\n",
    "    room_number: str\n",
    "    students: List[str] # list of strings\n",
    "    capacity: Optional[int] = 2\n",
    "    \n",
    "classroom = Classroom(\n",
    "    room_number=\"A-507\",\n",
    "    students=['Dhruv', 'Prakhar']\n",
    ")\n",
    "\n",
    "print(classroom)"
   ]
  },
  {
   "cell_type": "markdown",
   "id": "f0ea43bc",
   "metadata": {},
   "source": [
    "## Using try and except clauses to bypass validation errors"
   ]
  },
  {
   "cell_type": "code",
   "execution_count": 11,
   "id": "28cb9875",
   "metadata": {},
   "outputs": [
    {
     "name": "stdout",
     "output_type": "stream",
     "text": [
      "1 validation error for Classroom\n",
      "students.1\n",
      "  Input should be a valid string [type=string_type, input_value=2, input_type=int]\n",
      "    For further information visit https://errors.pydantic.dev/2.10/v/string_type\n"
     ]
    }
   ],
   "source": [
    "try:\n",
    "    trial_val = Classroom(room_number='A-506', students=[\"Shubhu\",2], capacity=2)\n",
    "except ValueError as e:\n",
    "    print(e)"
   ]
  },
  {
   "cell_type": "markdown",
   "id": "7a0c60ab",
   "metadata": {},
   "source": [
    "## Nested Models and Creating Complex Data Structures\n",
    "Nested models are models in which the datatype of some variable in one class is actually inheriting from some other class, eg:"
   ]
  },
  {
   "cell_type": "code",
   "execution_count": 12,
   "id": "c7668956",
   "metadata": {},
   "outputs": [
    {
     "name": "stdout",
     "output_type": "stream",
     "text": [
      "customer_id=1 name='Dhruv' address=Address(street=\"King's Cross Station\", city='London', pin_code=21)\n"
     ]
    }
   ],
   "source": [
    "from pydantic import BaseModel\n",
    "\n",
    "class Address(BaseModel):\n",
    "    street: str\n",
    "    city: str\n",
    "    pin_code: int\n",
    "    \n",
    "class Customer(BaseModel):\n",
    "    customer_id: int\n",
    "    name: str\n",
    "    address: Address # this is why it's a nested model\n",
    "    \n",
    "# creating a customer with a nested address\n",
    "\n",
    "customer = Customer(\n",
    "    customer_id=1,\n",
    "    name='Dhruv',\n",
    "    address=Address(\n",
    "        street='King\\'s Cross Station',\n",
    "        city='London',\n",
    "        pin_code=21\n",
    "    )\n",
    ")\n",
    "\n",
    "print(customer)"
   ]
  },
  {
   "cell_type": "markdown",
   "id": "5a4fe3b5",
   "metadata": {},
   "source": [
    "We can also use a dictionary to do this since it already knows what Class to inherit from, so pass in args directly"
   ]
  },
  {
   "cell_type": "code",
   "execution_count": 16,
   "id": "0a7d2c5a",
   "metadata": {},
   "outputs": [
    {
     "name": "stdout",
     "output_type": "stream",
     "text": [
      "customer_id=1 name='Dhruv' address=Address(street=\"King's Cross Station\", city='London', pin_code=21)\n"
     ]
    }
   ],
   "source": [
    "customer = Customer(\n",
    "    customer_id=1,\n",
    "    name='Dhruv',\n",
    "    address={\"street\":'King\\'s Cross Station', \"city\":'London', \"pin_code\":21}\n",
    ")\n",
    "\n",
    "print(customer)"
   ]
  },
  {
   "cell_type": "markdown",
   "id": "06b70997",
   "metadata": {},
   "source": [
    "## Pydantic Fields"
   ]
  },
  {
   "cell_type": "markdown",
   "id": "a83f89c8",
   "metadata": {},
   "source": [
    "There is a `Field` function in pydantic that enhances model fields beyond just basic type hints, it allows to specify validation rules, default values, aliases, etc. "
   ]
  },
  {
   "cell_type": "code",
   "execution_count": 21,
   "id": "7a4ccfa6",
   "metadata": {},
   "outputs": [
    {
     "name": "stdout",
     "output_type": "stream",
     "text": [
      "name='Pencils' price=35.0 qty=5\n"
     ]
    },
    {
     "ename": "ValidationError",
     "evalue": "3 validation errors for Item\nname\n  String should have at least 2 characters [type=string_too_short, input_value='e', input_type=str]\n    For further information visit https://errors.pydantic.dev/2.10/v/string_too_short\nprice\n  Input should be less than 100 [type=less_than, input_value=1000, input_type=int]\n    For further information visit https://errors.pydantic.dev/2.10/v/less_than\nqty\n  Input should be less than 10 [type=less_than, input_value=100, input_type=int]\n    For further information visit https://errors.pydantic.dev/2.10/v/less_than",
     "output_type": "error",
     "traceback": [
      "\u001b[1;31m---------------------------------------------------------------------------\u001b[0m",
      "\u001b[1;31mValidationError\u001b[0m                           Traceback (most recent call last)",
      "Cell \u001b[1;32mIn[21], line 14\u001b[0m\n\u001b[0;32m     10\u001b[0m \u001b[38;5;28mprint\u001b[39m(item1)\n\u001b[0;32m     13\u001b[0m \u001b[38;5;66;03m# invalid instance\u001b[39;00m\n\u001b[1;32m---> 14\u001b[0m item2 \u001b[38;5;241m=\u001b[39m \u001b[43mItem\u001b[49m\u001b[43m(\u001b[49m\u001b[43mname\u001b[49m\u001b[38;5;241;43m=\u001b[39;49m\u001b[38;5;124;43m'\u001b[39;49m\u001b[38;5;124;43me\u001b[39;49m\u001b[38;5;124;43m'\u001b[39;49m\u001b[43m,\u001b[49m\u001b[43m \u001b[49m\u001b[43mprice\u001b[49m\u001b[38;5;241;43m=\u001b[39;49m\u001b[38;5;241;43m1000\u001b[39;49m\u001b[43m,\u001b[49m\u001b[43m \u001b[49m\u001b[43mqty\u001b[49m\u001b[38;5;241;43m=\u001b[39;49m\u001b[38;5;241;43m100\u001b[39;49m\u001b[43m)\u001b[49m\n",
      "File \u001b[1;32mc:\\Users\\dhruv\\anaconda3\\envs\\newvenv\\Lib\\site-packages\\pydantic\\main.py:214\u001b[0m, in \u001b[0;36mBaseModel.__init__\u001b[1;34m(self, **data)\u001b[0m\n\u001b[0;32m    212\u001b[0m \u001b[38;5;66;03m# `__tracebackhide__` tells pytest and some other tools to omit this function from tracebacks\u001b[39;00m\n\u001b[0;32m    213\u001b[0m __tracebackhide__ \u001b[38;5;241m=\u001b[39m \u001b[38;5;28;01mTrue\u001b[39;00m\n\u001b[1;32m--> 214\u001b[0m validated_self \u001b[38;5;241m=\u001b[39m \u001b[38;5;28;43mself\u001b[39;49m\u001b[38;5;241;43m.\u001b[39;49m\u001b[43m__pydantic_validator__\u001b[49m\u001b[38;5;241;43m.\u001b[39;49m\u001b[43mvalidate_python\u001b[49m\u001b[43m(\u001b[49m\u001b[43mdata\u001b[49m\u001b[43m,\u001b[49m\u001b[43m \u001b[49m\u001b[43mself_instance\u001b[49m\u001b[38;5;241;43m=\u001b[39;49m\u001b[38;5;28;43mself\u001b[39;49m\u001b[43m)\u001b[49m\n\u001b[0;32m    215\u001b[0m \u001b[38;5;28;01mif\u001b[39;00m \u001b[38;5;28mself\u001b[39m \u001b[38;5;129;01mis\u001b[39;00m \u001b[38;5;129;01mnot\u001b[39;00m validated_self:\n\u001b[0;32m    216\u001b[0m     warnings\u001b[38;5;241m.\u001b[39mwarn(\n\u001b[0;32m    217\u001b[0m         \u001b[38;5;124m'\u001b[39m\u001b[38;5;124mA custom validator is returning a value other than `self`.\u001b[39m\u001b[38;5;130;01m\\n\u001b[39;00m\u001b[38;5;124m'\u001b[39m\n\u001b[0;32m    218\u001b[0m         \u001b[38;5;124m\"\u001b[39m\u001b[38;5;124mReturning anything other than `self` from a top level model validator isn\u001b[39m\u001b[38;5;124m'\u001b[39m\u001b[38;5;124mt supported when validating via `__init__`.\u001b[39m\u001b[38;5;130;01m\\n\u001b[39;00m\u001b[38;5;124m\"\u001b[39m\n\u001b[0;32m    219\u001b[0m         \u001b[38;5;124m'\u001b[39m\u001b[38;5;124mSee the `model_validator` docs (https://docs.pydantic.dev/latest/concepts/validators/#model-validators) for more details.\u001b[39m\u001b[38;5;124m'\u001b[39m,\n\u001b[0;32m    220\u001b[0m         stacklevel\u001b[38;5;241m=\u001b[39m\u001b[38;5;241m2\u001b[39m,\n\u001b[0;32m    221\u001b[0m     )\n",
      "\u001b[1;31mValidationError\u001b[0m: 3 validation errors for Item\nname\n  String should have at least 2 characters [type=string_too_short, input_value='e', input_type=str]\n    For further information visit https://errors.pydantic.dev/2.10/v/string_too_short\nprice\n  Input should be less than 100 [type=less_than, input_value=1000, input_type=int]\n    For further information visit https://errors.pydantic.dev/2.10/v/less_than\nqty\n  Input should be less than 10 [type=less_than, input_value=100, input_type=int]\n    For further information visit https://errors.pydantic.dev/2.10/v/less_than"
     ]
    }
   ],
   "source": [
    "from pydantic import BaseModel, Field\n",
    "\n",
    "class Item(BaseModel):\n",
    "    name: str=Field(min_length=2, max_length=50)\n",
    "    price: float=Field(gt=0, lt=100) # price should be greater than 0, less than 100\n",
    "    qty:int=Field(gt=0, lt=10)\n",
    "    \n",
    "# valid instance\n",
    "item1 = Item(name='Pencils', price=35, qty=5)\n",
    "print(item1)\n",
    "\n",
    "\n",
    "# invalid instance\n",
    "item2 = Item(name='e', price=1000, qty=100)"
   ]
  },
  {
   "cell_type": "markdown",
   "id": "73b12009",
   "metadata": {},
   "source": [
    "## Using Descriptions (helpful while looking at the schema)\n",
    "\n",
    "When we give the schema, atleast write enough metadata such that the developer or third party is able to understand what datatypes and stuff there is in the class."
   ]
  },
  {
   "cell_type": "code",
   "execution_count": 25,
   "id": "df8116c2",
   "metadata": {},
   "outputs": [
    {
     "name": "stdout",
     "output_type": "stream",
     "text": [
      "{'properties': {'username': {'description': 'Unique Username', 'title': 'Username', 'type': 'string'}, 'age': {'default': 18, 'description': 'User age that defaults to 18', 'title': 'Age', 'type': 'integer'}, 'email': {'description': 'Default email address is: user@example.com', 'title': 'Email', 'type': 'string'}}, 'required': ['username'], 'title': 'User', 'type': 'object'}\n"
     ]
    }
   ],
   "source": [
    "from pydantic import BaseModel, Field\n",
    "\n",
    "class User(BaseModel):\n",
    "    username: str=Field(..., description=\"Unique Username\")\n",
    "    age: int=Field(default=18, description=\"User age that defaults to 18\")\n",
    "    email: str=Field(default_factory = lambda: \"user@example.com\", description=\"Default email address is: user@example.com\")\n",
    "\n",
    "# printing the schema\n",
    "print(User.model_json_schema())"
   ]
  },
  {
   "cell_type": "code",
   "execution_count": null,
   "id": "255913a5",
   "metadata": {},
   "outputs": [],
   "source": []
  }
 ],
 "metadata": {
  "kernelspec": {
   "display_name": "newvenv",
   "language": "python",
   "name": "python3"
  },
  "language_info": {
   "codemirror_mode": {
    "name": "ipython",
    "version": 3
   },
   "file_extension": ".py",
   "mimetype": "text/x-python",
   "name": "python",
   "nbconvert_exporter": "python",
   "pygments_lexer": "ipython3",
   "version": "3.11.10"
  }
 },
 "nbformat": 4,
 "nbformat_minor": 5
}
