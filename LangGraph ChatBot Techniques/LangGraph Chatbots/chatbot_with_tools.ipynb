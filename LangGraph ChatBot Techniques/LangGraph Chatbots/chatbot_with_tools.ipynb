{
 "cells": [
  {
   "cell_type": "markdown",
   "id": "ce90f365",
   "metadata": {},
   "source": [
    "NOTE: EACH TOOL THAT WE ARE BINDING HAS TO BE DEFINED IN A FUNCTION. THESE FUNCTIONS HAVE TO HAVE GOOD DOCSTRINGS, THAT DESCRIBE CLEARLY WHEN THEY ARE USED AND WHAT THEY DO. WITHOUT THIS, THE LLM WILL GET CONFUSED AS TO WHICH TOOL TO USE."
   ]
  },
  {
   "cell_type": "markdown",
   "id": "150a4411",
   "metadata": {},
   "source": [
    "## Chatbot that uses Websearch\n",
    "a chatbot made with langgraph that uses web search (tavily search api)"
   ]
  },
  {
   "cell_type": "code",
   "execution_count": 5,
   "id": "cb334ebe",
   "metadata": {},
   "outputs": [],
   "source": [
    "from typing import Annotated \n",
    "from typing_extensions import TypedDict\n",
    "from langgraph.graph import StateGraph, START, END\n",
    "from langgraph.graph.message import add_messages "
   ]
  },
  {
   "cell_type": "code",
   "execution_count": 6,
   "id": "bbfd666e",
   "metadata": {},
   "outputs": [
    {
     "data": {
      "text/plain": [
       "<langgraph.graph.state.StateGraph at 0x1405f79d0>"
      ]
     },
     "execution_count": 6,
     "metadata": {},
     "output_type": "execute_result"
    }
   ],
   "source": [
    "class AgentState(TypedDict):\n",
    "    \"\"\"Messages are of type list, and the annotation defines how the list is updated\n",
    "    In this case, the add_messages reducer is telling it to append new messages to the list instead of replacing it.\n",
    "    \"\"\"\n",
    "    messages: Annotated[list, add_messages]\n",
    "    \n",
    "graph = StateGraph(AgentState)\n",
    "graph"
   ]
  },
  {
   "cell_type": "code",
   "execution_count": 7,
   "id": "112873e1",
   "metadata": {},
   "outputs": [
    {
     "data": {
      "text/plain": [
       "ChatGroq(client=<groq.resources.chat.completions.Completions object at 0x140644cd0>, async_client=<groq.resources.chat.completions.AsyncCompletions object at 0x140645590>, model_name='gemma2-9b-it', model_kwargs={}, groq_api_key=SecretStr('**********'))"
      ]
     },
     "execution_count": 7,
     "metadata": {},
     "output_type": "execute_result"
    }
   ],
   "source": [
    "import os\n",
    "from dotenv import load_dotenv\n",
    "from langchain_groq import ChatGroq\n",
    "\n",
    "load_dotenv()  \n",
    "\n",
    "llm = ChatGroq(\n",
    "    model_name=os.getenv(\"MODEL_NAME\"),\n",
    "    api_key=os.getenv(\"GROQ_API_KEY\") \n",
    ")\n",
    "\n",
    "llm"
   ]
  },
  {
   "cell_type": "code",
   "execution_count": 8,
   "id": "cdbb7d63",
   "metadata": {},
   "outputs": [
    {
     "data": {
      "text/plain": [
       "{'query': 'What is the recent finance news from within a month ago?',\n",
       " 'follow_up_questions': None,\n",
       " 'answer': None,\n",
       " 'images': [],\n",
       " 'results': [{'url': 'https://www.reuters.com/business/finance/',\n",
       "   'title': \"Latest Finance News | Today's Top Headlines - Reuters\",\n",
       "   'content': \"Finance ; Chime beats revenue estimates in first earnings since blowout US IPO. 12 hours ago ; Trump targets banks with order barring discriminatory 'debanking'.\",\n",
       "   'score': 0.50564,\n",
       "   'raw_content': None},\n",
       "  {'url': 'https://www.cnbc.com/finance/',\n",
       "   'title': 'Finance News - CNBC',\n",
       "   'content': \"1. Couple in their 50s makes $188,000 a year, but doesn't 'spend any money': 'We're living too little of a life,' wife says · 2. Are $600 tariff rebate checks\",\n",
       "   'score': 0.42648935,\n",
       "   'raw_content': None}],\n",
       " 'response_time': 1.43}"
      ]
     },
     "execution_count": 8,
     "metadata": {},
     "output_type": "execute_result"
    }
   ],
   "source": [
    "from langchain_tavily import TavilySearch\n",
    "\n",
    "tool=TavilySearch(max_results=2)\n",
    "tool.invoke(\"What is the recent finance news from within a month ago?\")"
   ]
  },
  {
   "cell_type": "markdown",
   "id": "e0e5095c",
   "metadata": {},
   "source": [
    "Making a custom function to bind two tools"
   ]
  },
  {
   "cell_type": "code",
   "execution_count": 9,
   "id": "8db99efb",
   "metadata": {},
   "outputs": [
    {
     "data": {
      "text/plain": [
       "RunnableBinding(bound=ChatGroq(client=<groq.resources.chat.completions.Completions object at 0x140644cd0>, async_client=<groq.resources.chat.completions.AsyncCompletions object at 0x140645590>, model_name='gemma2-9b-it', model_kwargs={}, groq_api_key=SecretStr('**********')), kwargs={'tools': [{'type': 'function', 'function': {'name': 'tavily_search', 'description': 'A search engine optimized for comprehensive, accurate, and trusted results. Useful for when you need to answer questions about current events. It not only retrieves URLs and snippets, but offers advanced search depths, domain management, time range filters, and image search, this tool delivers real-time, accurate, and citation-backed results.Input should be a search query.', 'parameters': {'properties': {'query': {'description': 'Search query to look up', 'type': 'string'}, 'include_domains': {'anyOf': [{'items': {'type': 'string'}, 'type': 'array'}, {'type': 'null'}], 'default': [], 'description': 'A list of domains to restrict search results to.\\n\\n        Use this parameter when:\\n        1. The user explicitly requests information from specific websites (e.g., \"Find climate data from nasa.gov\")\\n        2. The user mentions an organization or company without specifying the domain (e.g., \"Find information about iPhones from Apple\")\\n\\n        In both cases, you should determine the appropriate domains (e.g., [\"nasa.gov\"] or [\"apple.com\"]) and set this parameter.\\n\\n        Results will ONLY come from the specified domains - no other sources will be included.\\n        Default is None (no domain restriction).\\n        '}, 'exclude_domains': {'anyOf': [{'items': {'type': 'string'}, 'type': 'array'}, {'type': 'null'}], 'default': [], 'description': 'A list of domains to exclude from search results.\\n\\n        Use this parameter when:\\n        1. The user explicitly requests to avoid certain websites (e.g., \"Find information about climate change but not from twitter.com\")\\n        2. The user mentions not wanting results from specific organizations without naming the domain (e.g., \"Find phone reviews but nothing from Apple\")\\n\\n        In both cases, you should determine the appropriate domains to exclude (e.g., [\"twitter.com\"] or [\"apple.com\"]) and set this parameter.\\n\\n        Results will filter out all content from the specified domains.\\n        Default is None (no domain exclusion).\\n        '}, 'search_depth': {'anyOf': [{'enum': ['basic', 'advanced'], 'type': 'string'}, {'type': 'null'}], 'default': 'basic', 'description': 'Controls search thoroughness and result comprehensiveness.\\n    \\n        Use \"basic\" for simple queries requiring quick, straightforward answers.\\n        \\n        Use \"advanced\" (default) for complex queries, specialized topics, \\n        rare information, or when in-depth analysis is needed.\\n        '}, 'include_images': {'anyOf': [{'type': 'boolean'}, {'type': 'null'}], 'default': False, 'description': 'Determines if the search returns relevant images along with text results.\\n   \\n        Set to True when the user explicitly requests visuals or when images would \\n        significantly enhance understanding (e.g., \"Show me what black holes look like,\" \\n        \"Find pictures of Renaissance art\").\\n        \\n        Leave as False (default) for most informational queries where text is sufficient.\\n        '}, 'time_range': {'anyOf': [{'enum': ['day', 'week', 'month', 'year'], 'type': 'string'}, {'type': 'null'}], 'default': None, 'description': 'Limits results to content published within a specific timeframe.\\n        \\n        ONLY set this when the user explicitly mentions a time period \\n        (e.g., \"latest AI news,\" \"articles from last week\").\\n        \\n        For less popular or niche topics, use broader time ranges \\n        (\"month\" or \"year\") to ensure sufficient relevant results.\\n   \\n        Options: \"day\" (24h), \"week\" (7d), \"month\" (30d), \"year\" (365d).\\n        \\n        Default is None.\\n        '}, 'topic': {'anyOf': [{'enum': ['general', 'news', 'finance'], 'type': 'string'}, {'type': 'null'}], 'default': 'general', 'description': 'Specifies search category for optimized results.\\n   \\n        Use \"general\" (default) for most queries, INCLUDING those with terms like \\n        \"latest,\" \"newest,\" or \"recent\" when referring to general information.\\n\\n        Use \"finance\" for markets, investments, economic data, or financial news.\\n\\n        Use \"news\" ONLY for politics, sports, or major current events covered by \\n        mainstream media - NOT simply because a query asks for \"new\" information.\\n        '}, 'include_favicon': {'anyOf': [{'type': 'boolean'}, {'type': 'null'}], 'default': False, 'description': \"Determines whether to include favicon URLs for each search result.\\n        \\n        When enabled, each search result will include the website's favicon URL,\\n        which can be useful for:\\n        - Building rich UI interfaces with visual website indicators\\n        - Providing visual cues about the source's credibility or brand\\n        - Creating bookmark-like displays with recognizable site icons\\n        \\n        Set to True when creating user interfaces that benefit from visual branding\\n        or when favicon information enhances the user experience.\\n        \\n        Default is False to minimize response size and API usage.\\n        \"}, 'start_date': {'anyOf': [{'type': 'string'}, {'type': 'null'}], 'default': None, 'description': 'Filters search results to include only content published on or after this date.\\n        \\n        Use this parameter when you need to:\\n        - Find recent developments or updates on a topic\\n        - Exclude outdated information from search results\\n        - Focus on content within a specific timeframe\\n        - Combine with end_date to create a custom date range\\n        \\n        Format must be YYYY-MM-DD (e.g., \"2024-01-15\" for January 15, 2024).\\n        \\n        Examples:\\n        - \"2024-01-01\" - Results from January 1, 2024 onwards\\n        - \"2023-12-25\" - Results from December 25, 2023 onwards\\n        \\n        When combined with end_date, creates a precise date range filter.\\n        \\n        Default is None (no start date restriction).\\n        '}, 'end_date': {'anyOf': [{'type': 'string'}, {'type': 'null'}], 'default': None, 'description': 'Filters search results to include only content published on or before this date.\\n        \\n        Use this parameter when you need to:\\n        - Exclude content published after a certain date\\n        - Study historical information or past events\\n        - Research how topics were covered during specific time periods\\n        - Combine with start_date to create a custom date range\\n        \\n        Format must be YYYY-MM-DD (e.g., \"2024-03-31\" for March 31, 2024).\\n        \\n        Examples:\\n        - \"2024-03-31\" - Results up to and including March 31, 2024\\n        - \"2023-12-31\" - Results up to and including December 31, 2023\\n        \\n        When combined with start_date, creates a precise date range filter.\\n        For example: start_date=\"2024-01-01\", end_date=\"2024-03-31\" \\n        returns results from Q1 2024 only.\\n        \\n        Default is None (no end date restriction).\\n        '}}, 'required': ['query'], 'type': 'object'}}}, {'type': 'function', 'function': {'name': 'multiply', 'description': 'Multiply a and b', 'parameters': {'properties': {'a': {'description': 'first int', 'type': 'integer'}, 'b': {'description': 'second int', 'type': 'integer'}}, 'required': ['a', 'b'], 'type': 'object'}}}]}, config={}, config_factories=[])"
      ]
     },
     "execution_count": 9,
     "metadata": {},
     "output_type": "execute_result"
    }
   ],
   "source": [
    "## Custom function\n",
    "def multiply(a:int,b:int)->int:\n",
    "    \"\"\"Multiply a and b\n",
    "\n",
    "    Args:\n",
    "        a (int): first int\n",
    "        b (int): second int\n",
    "\n",
    "    Returns:\n",
    "        int: output int\n",
    "    \"\"\"\n",
    "    return a*b\n",
    "\n",
    "tools=[tool,multiply]\n",
    "llm_with_tool=llm.bind_tools(tools)\n",
    "llm_with_tool"
   ]
  },
  {
   "cell_type": "markdown",
   "id": "776f7a35",
   "metadata": {},
   "source": [
    "Binding an LLM with tools enables it to understand properly which tools are at its disposal. (without the use of MCP Servers being necessary for simple usecases)"
   ]
  },
  {
   "cell_type": "code",
   "execution_count": 10,
   "id": "44b086f8",
   "metadata": {},
   "outputs": [
    {
     "data": {
      "image/png": "[encoded data removed]",
      "text/plain": [
       "<IPython.core.display.Image object>"
      ]
     },
     "metadata": {},
     "output_type": "display_data"
    }
   ],
   "source": [
    "from langgraph.graph import StateGraph, START, END\n",
    "from langgraph.prebuilt import ToolNode, tools_condition\n",
    "# build graph\n",
    "graph = StateGraph(AgentState)\n",
    "\n",
    "# define tolnodes\n",
    "def tool_caller(state:AgentState) -> AgentState:\n",
    "    \"\"\"This node calls tools and appends the results to the messages list.\"\"\"\n",
    "    return {\n",
    "        \"messages\":state[\"messages\"] + [llm_with_tool.invoke(state[\"messages\"])]\n",
    "        }\n",
    "\n",
    "# add nodes\n",
    "graph.add_node(\"tool_caller\", tool_caller)\n",
    "graph.add_node(\"tools\", ToolNode(tools))\n",
    "\n",
    "\n",
    "\n",
    "# add edges conditionally\n",
    "graph.add_edge(START, \"tool_caller\")\n",
    "graph.add_conditional_edges(\n",
    "    \"tool_caller\", \n",
    "    # if the last message in messages is a tool call, go to tools node\n",
    "    tools_condition,\n",
    "    # if the last message is not a tool call, go to END node\n",
    "    END\n",
    ")\n",
    "graph.add_edge(\"tools\", END)\n",
    "\n",
    "# compile graph\n",
    "app = graph.compile()\n",
    "\n",
    "from IPython.display import Image, display\n",
    "display(Image(app.get_graph().draw_mermaid_png()))"
   ]
  },
  {
   "cell_type": "code",
   "execution_count": 11,
   "id": "3d86a045",
   "metadata": {},
   "outputs": [
    {
     "data": {
      "text/plain": [
       "'{\"query\": \"recent ai news\", \"follow_up_questions\": null, \"answer\": null, \"images\": [], \"results\": [{\"url\": \"https://www.csoonline.com/article/4035385/beef-up-ai-security-with-zero-trust-principles.html\", \"title\": \"Beef up AI security with zero trust principles - csoonline.com\", \"score\": 0.7077487, \"published_date\": \"Thu, 07 Aug 2025 04:34:24 GMT\", \"content\": \"News ### ReVault flaws let attackers bypass Windows login or place malware implants on Dell laptops By John Leyden Aug 6, 2025 4 mins Black Hat Security Hardware VulnerabilitiesFeature ### How cybersecurity leaders are securing AI infrastructures By Maria Korolov Aug 6, 2025 10 mins Artificial Intelligence Generative AI Security InfrastructureNews ### Nvidia patches critical Triton server bugs that threaten AI model security By Shweta Sharma Aug 5, 2025 4 mins Artificial Intelligence Security Vulnerabilities news ### Beef up AI security with zero trust principles By Howard Solomon Aug 7, 2025 6 mins Artificial Intelligence Black Hat Zero Trust Image 2: Image podcast ### CSO Executive Sessions: How AI and LLMs are affecting security in the financial services industry Mar 20, 2025 13 mins CSO and CISO Financial Services Industry Security Operations Center Image 6: Image\", \"raw_content\": null}, {\"url\": \"https://www.infosecurity-magazine.com/news/web-ai-usage-shifts-internet/\", \"title\": \"Web-Based AI Usage Surge Shifts Global Internet Traffic Patterns - Infosecurity Magazine\", \"score\": 0.69274646, \"published_date\": \"Mon, 04 Aug 2025 13:15:00 GMT\", \"content\": \"Web-Based AI Usage Surge Shifts Global Internet Traffic Patterns - Infosecurity Magazine  Infosecurity Magazine Home » News » Web-Based AI Usage Surge Shifts Global Internet Traffic Patterns Traffic to AI tool platforms rose from 7 billion visits in February 2024 to 10.53 billion in January 2025 (a 50% increase) according to new findings from Menlo Security. This shift is mainly due to the continued reliance on browsers to access generative AI (GenAI) tools. Menlo Security\\'s recent study, which analyzed AI interactions from hundreds of organizations globally during 30 days in May and June 2025, provides key insights into the current GenAI landscape: _Read more on browser security in the age of AI: Closing the Browser Security Gap: Defending Against Modern Web-Based Threats_\", \"raw_content\": null}], \"response_time\": 0.47}'"
      ]
     },
     "execution_count": 11,
     "metadata": {},
     "output_type": "execute_result"
    }
   ],
   "source": [
    "response=app.invoke({\"messages\":\"What is the recent ai news\"})\n",
    "response[\"messages\"][-1].content"
   ]
  },
  {
   "cell_type": "code",
   "execution_count": 12,
   "id": "6e4de578",
   "metadata": {},
   "outputs": [
    {
     "name": "stdout",
     "output_type": "stream",
     "text": [
      "================================\u001b[1m Human Message \u001b[0m=================================\n",
      "\n",
      "What is the recent ai news\n",
      "==================================\u001b[1m Ai Message \u001b[0m==================================\n",
      "Tool Calls:\n",
      "  tavily_search (88tz8jk2h)\n",
      " Call ID: 88tz8jk2h\n",
      "  Args:\n",
      "    query: recent ai news\n",
      "    topic: news\n",
      "=================================\u001b[1m Tool Message \u001b[0m=================================\n",
      "Name: tavily_search\n",
      "\n",
      "{\"query\": \"recent ai news\", \"follow_up_questions\": null, \"answer\": null, \"images\": [], \"results\": [{\"url\": \"https://www.csoonline.com/article/4035385/beef-up-ai-security-with-zero-trust-principles.html\", \"title\": \"Beef up AI security with zero trust principles - csoonline.com\", \"score\": 0.7077487, \"published_date\": \"Thu, 07 Aug 2025 04:34:24 GMT\", \"content\": \"News ### ReVault flaws let attackers bypass Windows login or place malware implants on Dell laptops By John Leyden Aug 6, 2025 4 mins Black Hat Security Hardware VulnerabilitiesFeature ### How cybersecurity leaders are securing AI infrastructures By Maria Korolov Aug 6, 2025 10 mins Artificial Intelligence Generative AI Security InfrastructureNews ### Nvidia patches critical Triton server bugs that threaten AI model security By Shweta Sharma Aug 5, 2025 4 mins Artificial Intelligence Security Vulnerabilities news ### Beef up AI security with zero trust principles By Howard Solomon Aug 7, 2025 6 mins Artificial Intelligence Black Hat Zero Trust Image 2: Image podcast ### CSO Executive Sessions: How AI and LLMs are affecting security in the financial services industry Mar 20, 2025 13 mins CSO and CISO Financial Services Industry Security Operations Center Image 6: Image\", \"raw_content\": null}, {\"url\": \"https://www.infosecurity-magazine.com/news/web-ai-usage-shifts-internet/\", \"title\": \"Web-Based AI Usage Surge Shifts Global Internet Traffic Patterns - Infosecurity Magazine\", \"score\": 0.69274646, \"published_date\": \"Mon, 04 Aug 2025 13:15:00 GMT\", \"content\": \"Web-Based AI Usage Surge Shifts Global Internet Traffic Patterns - Infosecurity Magazine  Infosecurity Magazine Home » News » Web-Based AI Usage Surge Shifts Global Internet Traffic Patterns Traffic to AI tool platforms rose from 7 billion visits in February 2024 to 10.53 billion in January 2025 (a 50% increase) according to new findings from Menlo Security. This shift is mainly due to the continued reliance on browsers to access generative AI (GenAI) tools. Menlo Security's recent study, which analyzed AI interactions from hundreds of organizations globally during 30 days in May and June 2025, provides key insights into the current GenAI landscape: _Read more on browser security in the age of AI: Closing the Browser Security Gap: Defending Against Modern Web-Based Threats_\", \"raw_content\": null}], \"response_time\": 0.47}\n"
     ]
    }
   ],
   "source": [
    "for m in response['messages']:\n",
    "    m.pretty_print()"
   ]
  },
  {
   "cell_type": "code",
   "execution_count": 13,
   "id": "ff574990",
   "metadata": {},
   "outputs": [
    {
     "name": "stdout",
     "output_type": "stream",
     "text": [
      "================================\u001b[1m Human Message \u001b[0m=================================\n",
      "\n",
      "What is 5 multiplied by 2\n",
      "==================================\u001b[1m Ai Message \u001b[0m==================================\n",
      "Tool Calls:\n",
      "  multiply (n5jgfhyrn)\n",
      " Call ID: n5jgfhyrn\n",
      "  Args:\n",
      "    a: 5\n",
      "    b: 2\n",
      "=================================\u001b[1m Tool Message \u001b[0m=================================\n",
      "Name: multiply\n",
      "\n",
      "10\n"
     ]
    }
   ],
   "source": [
    "response=app.invoke({\"messages\":\"What is 5 multiplied by 2\"})\n",
    "for m in response['messages']:\n",
    "    m.pretty_print()"
   ]
  },
  {
   "cell_type": "code",
   "execution_count": 14,
   "id": "46945166",
   "metadata": {},
   "outputs": [
    {
     "name": "stdout",
     "output_type": "stream",
     "text": [
      "================================\u001b[1m Human Message \u001b[0m=================================\n",
      "\n",
      "Give me the recent ai news and then multiply 5 by 10\n",
      "==================================\u001b[1m Ai Message \u001b[0m==================================\n",
      "Tool Calls:\n",
      "  tavily_search (ktby9zpes)\n",
      " Call ID: ktby9zpes\n",
      "  Args:\n",
      "    query: latest AI news\n",
      "    search_depth: advanced\n",
      "    time_range: day\n",
      "=================================\u001b[1m Tool Message \u001b[0m=================================\n",
      "Name: tavily_search\n",
      "\n",
      "{\"query\": \"latest AI news\", \"follow_up_questions\": null, \"answer\": null, \"images\": [], \"results\": [{\"url\": \"https://news.mit.edu/topic/artificial-intelligence2\", \"title\": \"Artificial intelligence | Massachusetts Institute of Technology\", \"content\": \"The simulations matched results from an underground lab experiment in Switzerland, suggesting modeling could be used to validate the safety of nuclear disposal sites.\\n\\nJuly 18, 2025\\n\\nRead full story →\\n\\nA robot thinking between numbers and letters\\n\\n### This “smart coach” helps LLMs switch between text and code\\n\\nThe CodeSteer system could boost large language models’ accuracy when solving complex problems, such as scheduling shipments in a supply chain.\\n\\nJuly 17, 2025\\n\\nRead full story → [...] By visualizing Escher-like optical illusions in 2.5 dimensions, the “Meschers” tool could help scientists understand physics-defying shapes and spark new designs.\\n\\nAugust 4, 2025\\n\\nRead full story →\\n\\nA neural network over complicated mathematical figures\\n\\n### New algorithms enable efficient machine learning with symmetric data\\n\\nThis new approach could lead to enhanced AI models for drug and materials discovery.\\n\\nJuly 30, 2025\\n\\nRead full story → [...] A small robotic arm is mounted on a circular white base, on a bright blue surface. It is holding a yellow pencil vertically and is connected to wires and electronic components, including a Raspberry Pi board.\\n\\n### Robot, know thyself: New vision-based system teaches machines to understand their bodies\\n\\nNeural Jacobian Fields, developed by MIT CSAIL researchers, can learn to control any robot from a single camera, without any other sensors.\\n\\nJuly 24, 2025\\n\\nRead full story →\", \"score\": 0.6030211, \"raw_content\": null}, {\"url\": \"https://fortune.com/2025/08/07/summer-of-ai-layoffs-july-140-percent-spike-challenger-gray-christmas/\", \"title\": \"Stunning new data reveals 140% layoff spike in July, with ... - Fortune\", \"content\": \"## The AI effect\\n\\nBeyond the more than 10,000 jobs in July that were eliminated specifically due to AI adoption, an additional 20,219 cuts were attributed to “technological updates” including automation and new software workflows. Challenger Gray said this suggests “a significant acceleration in AI-related restructuring.” [...] Headlines, including in Fortune, have linked surging layoffs to increasing adoption of artificial intelligence (AI) in the enterprise, and Challenger Gray agrees, partially. A bigger impact is cutbacks in government employment as a result of the Department of Government Efficiency (DOGE), previously with Elon Musk in an ambiguous advisory role. A big part of the DOGE cuts, of course, is to encourage increasing AI adoption within the government. “We are seeing the Federal budget cuts implemented [...] While AI’s influence dominates headlines, federal budget cuts—known as the “DOGE Impact”—are another pillar driving this year’s wave of layoffs. The government sector has announced 292,294 job cuts this year, most at the federal level, as courts greenlight sweeping reductions. These have affected not just direct government roles, but also non-profits and healthcare through downstream funding losses, totaling an additional 13,056 layoffs.\", \"score\": 0.47694567, \"raw_content\": null}], \"response_time\": 2.68}\n"
     ]
    }
   ],
   "source": [
    "response=app.invoke({\"messages\":\"Give me the recent ai news and then multiply 5 by 10\"})\n",
    "for m in response['messages']:\n",
    "    m.pretty_print()"
   ]
  },
  {
   "cell_type": "markdown",
   "id": "11a6bcd2",
   "metadata": {},
   "source": [
    "Note: in this case, due to the structure of our graph, even though it noticed that both tools were rqeuired and called both of them, after generating the output from the first (news) tool, it skipped to the END node and then the graph ended. Hence, it never gave us the result of multiplication."
   ]
  },
  {
   "cell_type": "markdown",
   "id": "b12fc8b4",
   "metadata": {},
   "source": [
    "## How to fix this problem?\n",
    "\n",
    "Instead of skipping to the end node after running the tool node, we can give the output after calling the tool back to the LLM. Then the LLM can decide weather the response is satisfactory relative to the initial query or not, before skipping to the END node.\\\n",
    "Hence, it will look somewhat like this:\n",
    "```mermaid\n",
    "    flowchart TD\n",
    "    A[Query] --> B[LLM]\n",
    "    B[LLM] --> C[Tool Node]\n",
    "    C[Tool Node] --> B[LLM]\n",
    "    B[LLM] --> END\n",
    "```"
   ]
  },
  {
   "cell_type": "markdown",
   "id": "52378c1b",
   "metadata": {},
   "source": [
    "This is where ReAct Agents come into play."
   ]
  }
 ],
 "metadata": {
  "kernelspec": {
   "display_name": "newvenv",
   "language": "python",
   "name": "python3"
  },
  "language_info": {
   "codemirror_mode": {
    "name": "ipython",
    "version": 3
   },
   "file_extension": ".py",
   "mimetype": "text/x-python",
   "name": "python",
   "nbconvert_exporter": "python",
   "pygments_lexer": "ipython3",
   "version": "3.13.5"
  }
 },
 "nbformat": 4,
 "nbformat_minor": 5
}
