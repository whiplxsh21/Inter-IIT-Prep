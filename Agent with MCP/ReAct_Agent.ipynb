{
 "cells": [
  {
   "cell_type": "markdown",
   "id": "079cfc96",
   "metadata": {},
   "source": [
    "## ReAct Agent Architecture.\n",
    "For context, look at the last part of `chatbot_with_tools.ipynb`\n",
    "\n",
    "The only change we are going to do to the old code is the structure of the langgraph."
   ]
  },
  {
   "cell_type": "code",
   "execution_count": 1,
   "id": "e268a63e",
   "metadata": {},
   "outputs": [],
   "source": [
    "from typing import Annotated \n",
    "from typing_extensions import TypedDict\n",
    "from langgraph.graph import StateGraph, START, END\n",
    "from langgraph.graph.message import add_messages \n",
    "\n",
    "class AgentState(TypedDict):\n",
    "    \"\"\"Messages are of type list, and the annotation defines how the list is updated\n",
    "    In this case, the add_messages reducer is telling it to append new messages to the list instead of replacing it.\n",
    "    \"\"\"\n",
    "    messages: Annotated[list, add_messages]\n",
    "    \n",
    "graph = StateGraph(AgentState)\n",
    "\n",
    "\n",
    "\n",
    "import os\n",
    "from dotenv import load_dotenv\n",
    "from langchain_groq import ChatGroq\n",
    "\n",
    "load_dotenv()  \n",
    "\n",
    "llm = ChatGroq(\n",
    "    model_name=os.getenv(\"MODEL_NAME\"),\n",
    "    api_key=os.getenv(\"GROQ_API_KEY\") \n",
    ")\n"
   ]
  },
  {
   "cell_type": "code",
   "execution_count": 2,
   "id": "34390912",
   "metadata": {},
   "outputs": [],
   "source": [
    "from langchain_tavily import TavilySearch\n",
    "\n",
    "tool=TavilySearch(max_results=2)\n",
    "\n",
    "## Custom function\n",
    "def multiply(a:int,b:int)->int:\n",
    "    \"\"\"Multiply a and b\n",
    "\n",
    "    Args:\n",
    "        a (int): first int\n",
    "        b (int): second int\n",
    "\n",
    "    Returns:\n",
    "        int: output int\n",
    "    \"\"\"\n",
    "    return a*b\n",
    "\n",
    "tools=[tool,multiply]\n",
    "llm_with_tool=llm.bind_tools(tools)\n"
   ]
  },
  {
   "cell_type": "code",
   "execution_count": 6,
   "id": "1fc32178",
   "metadata": {},
   "outputs": [
    {
     "data": {
      "image/png": "[encoded data removed]",
      "text/plain": [
       "<IPython.core.display.Image object>"
      ]
     },
     "metadata": {},
     "output_type": "display_data"
    }
   ],
   "source": [
    "from langgraph.graph import StateGraph, START, END\n",
    "from langgraph.prebuilt import ToolNode, tools_condition\n",
    "# build graph\n",
    "graph = StateGraph(AgentState)\n",
    "\n",
    "# define tolnodes\n",
    "def tool_caller(state:AgentState) -> AgentState:\n",
    "    \"\"\"This node calls tools and appends the results to the messages list.\"\"\"\n",
    "    return {\n",
    "        \"messages\":state[\"messages\"] + [llm_with_tool.invoke(state[\"messages\"])]\n",
    "        }\n",
    "\n",
    "# add nodes\n",
    "graph.add_node(\"tool_caller\", tool_caller)\n",
    "graph.add_node(\"tools\", ToolNode(tools))\n",
    "\n",
    "\n",
    "\n",
    "# add edges conditionally\n",
    "graph.add_edge(START, \"tool_caller\")\n",
    "graph.add_conditional_edges(\n",
    "    \"tool_caller\", \n",
    "    # if the last message in messages is a tool call, go to tools node\n",
    "    tools_condition,\n",
    "    # if the last message is not a tool call, go to END node\n",
    "    END\n",
    ")\n",
    "graph.add_edge(\"tools\", \"tool_caller\")\n",
    "\n",
    "# compile graph\n",
    "app = graph.compile()\n",
    "\n",
    "from IPython.display import Image, display\n",
    "display(Image(app.get_graph().draw_mermaid_png()))"
   ]
  },
  {
   "cell_type": "code",
   "execution_count": 10,
   "id": "dac6e919",
   "metadata": {},
   "outputs": [],
   "source": [
    "response=app.invoke({\"messages\":\"Tell me the recent ai news and then multiply 5 by 10\"})"
   ]
  },
  {
   "cell_type": "code",
   "execution_count": 11,
   "id": "8b8b0db3",
   "metadata": {},
   "outputs": [
    {
     "name": "stdout",
     "output_type": "stream",
     "text": [
      "Based on the output from the \"tavily_search\" tool, the recent AI news is about OpenAI teasing the imminent launch of GPT-5, a new AI model that is expected to be more powerful and capable than its predecessors. Additionally, there are news articles about other AI-related developments in the fintech industry, such as April's Series B funding and Lloyds' AI strategy.\n",
      "\n",
      "Now, to multiply 5 by 10, I can simply use the mathematical operation:\n",
      "\n",
      "5 * 10 = 50\n",
      "\n",
      "So the result of multiplying 5 by 10 is 50.\n"
     ]
    }
   ],
   "source": [
    "for line in response[\"messages\"][-1].content.split(\"\\n\"):\n",
    "    print(line.strip())"
   ]
  },
  {
   "cell_type": "markdown",
   "id": "638e5590",
   "metadata": {},
   "source": [
    "Clearly, we have achieved a solution to the problem faced with the previous architecture using this."
   ]
  },
  {
   "cell_type": "markdown",
   "id": "45836ce3",
   "metadata": {},
   "source": [
    "PREVIOUS\n",
    "```mermaid\n",
    "    flowchart TD\n",
    "    A[Query] --> B[LLM]\n",
    "    B[LLM] --> C[Tool Node]\n",
    "    C[Tool Node] --> END\n",
    "    B[LLM] --> END\n",
    "```\n",
    "\n",
    "ReAct AGENT\n",
    "```mermaid\n",
    "    flowchart TD\n",
    "    A[Query] --> B[LLM]\n",
    "    B[LLM] --> C[Tool Node]\n",
    "    C[Tool Node] --> B[LLM]\n",
    "    B[LLM] --> END\n",
    "```"
   ]
  },
  {
   "cell_type": "markdown",
   "id": "9ac28402",
   "metadata": {},
   "source": []
  }
 ],
 "metadata": {
  "kernelspec": {
   "display_name": "newvenv",
   "language": "python",
   "name": "python3"
  },
  "language_info": {
   "codemirror_mode": {
    "name": "ipython",
    "version": 3
   },
   "file_extension": ".py",
   "mimetype": "text/x-python",
   "name": "python",
   "nbconvert_exporter": "python",
   "pygments_lexer": "ipython3",
   "version": "3.11.10"
  }
 },
 "nbformat": 4,
 "nbformat_minor": 5
}
